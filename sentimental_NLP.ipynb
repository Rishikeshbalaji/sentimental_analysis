{
 "cells": [
  {
   "cell_type": "code",
   "execution_count": 97,
   "id": "37c4ff2c-d84f-4a7a-abd7-4e69b5370e79",
   "metadata": {},
   "outputs": [],
   "source": [
    "import string\n",
    "import nltk\n",
    "# nltk.download('punkt')\n",
    "# nltk.download('stopwords')\n",
    "# nltk.download('wordnet')\n",
    "# nltk.download('omw-1.4')\n",
    "# nltk.download('vader_lexicon')  \n",
    "from collections import Counter\n",
    "import matplotlib.pyplot as plt \n",
    "from nltk.corpus import stopwords\n",
    "from nltk.sentiment.vader import SentimentIntensityAnalyzer\n",
    "from nltk.stem import WordNetLemmatizer\n",
    "from nltk.tokenize import word_tokenize\n"
   ]
  },
  {
   "cell_type": "code",
   "execution_count": 98,
   "id": "07f2b18f-a84e-4ff2-913a-2fda2ba07a00",
   "metadata": {},
   "outputs": [
    {
     "name": "stdout",
     "output_type": "stream",
     "text": [
      "Dement is now an emeritus professor – but in 1964 he was just starting his research in the still new field of sleep science. He had read about the experiment in a San Diego newspaper and immediately wanted to get involved – much to the relief of Randy’s parents.\n",
      "\n",
      "“I was probably the only person on the planet at the time who had actually done sleep research,” Dement says “[Randy’s parents] were very worried that this might be something that would really be harmful to him. Because the question was still unresolved on whether or not if you go without sleep long enough you will die.”\n",
      "\n",
      "Our capacity to go without sleep is something that BBC Future has explored previously. Experiments on animals, such as one which kept cats awake for 15 days at which point they died, point to whether other factors such as stress or chemicals are the cause of death, rather than lack of sleep.\n"
     ]
    }
   ],
   "source": [
    "read_text= open(\"C:/Users/Renuka/Desktop/jupiter_lab/env/Scripts/read.txt\", encoding='utf-8').read()\n",
    "print(read_text)\n",
    "lower_case=read_text.lower()"
   ]
  },
  {
   "cell_type": "code",
   "execution_count": 99,
   "id": "df5491e5-e78a-4f09-891a-42f4da411b3b",
   "metadata": {},
   "outputs": [
    {
     "name": "stdout",
     "output_type": "stream",
     "text": [
      "dement is now an emeritus professor – but in 1964 he was just starting his research in the still new field of sleep science he had read about the experiment in a san diego newspaper and immediately wanted to get involved – much to the relief of randy’s parents\n",
      "\n",
      "“i was probably the only person on the planet at the time who had actually done sleep research” dement says “randy’s parents were very worried that this might be something that would really be harmful to him because the question was still unresolved on whether or not if you go without sleep long enough you will die”\n",
      "\n",
      "our capacity to go without sleep is something that bbc future has explored previously experiments on animals such as one which kept cats awake for 15 days at which point they died point to whether other factors such as stress or chemicals are the cause of death rather than lack of sleep\n"
     ]
    }
   ],
   "source": [
    "# print(lower_case)\n",
    "clr_text = lower_case.translate(str.maketrans('', '', string.punctuation))\n",
    "print(clr_text)"
   ]
  },
  {
   "cell_type": "code",
   "execution_count": 100,
   "id": "3ce694ac-2b20-4747-adbc-188f89b08149",
   "metadata": {},
   "outputs": [
    {
     "name": "stdout",
     "output_type": "stream",
     "text": [
      "['dement', 'is', 'now', 'an', 'emeritus', 'professor', '–', 'but', 'in', '1964', 'he', 'was', 'just', 'starting', 'his', 'research', 'in', 'the', 'still', 'new', 'field', 'of', 'sleep', 'science', 'he', 'had', 'read', 'about', 'the', 'experiment', 'in', 'a', 'san', 'diego', 'newspaper', 'and', 'immediately', 'wanted', 'to', 'get', 'involved', '–', 'much', 'to', 'the', 'relief', 'of', 'randy', '’', 's', 'parents', '“', 'i', 'was', 'probably', 'the', 'only', 'person', 'on', 'the', 'planet', 'at', 'the', 'time', 'who', 'had', 'actually', 'done', 'sleep', 'research', '”', 'dement', 'says', '“', 'randy', '’', 's', 'parents', 'were', 'very', 'worried', 'that', 'this', 'might', 'be', 'something', 'that', 'would', 'really', 'be', 'harmful', 'to', 'him', 'because', 'the', 'question', 'was', 'still', 'unresolved', 'on', 'whether', 'or', 'not', 'if', 'you', 'go', 'without', 'sleep', 'long', 'enough', 'you', 'will', 'die', '”', 'our', 'capacity', 'to', 'go', 'without', 'sleep', 'is', 'something', 'that', 'bbc', 'future', 'has', 'explored', 'previously', 'experiments', 'on', 'animals', 'such', 'as', 'one', 'which', 'kept', 'cats', 'awake', 'for', '15', 'days', 'at', 'which', 'point', 'they', 'died', 'point', 'to', 'whether', 'other', 'factors', 'such', 'as', 'stress', 'or', 'chemicals', 'are', 'the', 'cause', 'of', 'death', 'rather', 'than', 'lack', 'of', 'sleep']\n"
     ]
    }
   ],
   "source": [
    "# Using word_tokenize because it's faster than split()\n",
    "tokenized_words = word_tokenize(clr_text, \"english\")\n",
    "print(tokenized_words)\n"
   ]
  },
  {
   "cell_type": "code",
   "execution_count": 101,
   "id": "16008394-c5d2-464c-af24-e29cf2569de4",
   "metadata": {},
   "outputs": [],
   "source": [
    "# Removing Stop Words\n",
    "final_words = []\n",
    "for word in tokenized_words:\n",
    "    if word not in stopwords.words('english'):\n",
    "        final_words.append(word)"
   ]
  },
  {
   "cell_type": "code",
   "execution_count": 102,
   "id": "25ba5b4a-a4f3-4a0b-9232-90b9e3f7ae87",
   "metadata": {
    "scrolled": true,
    "tags": []
   },
   "outputs": [
    {
     "name": "stdout",
     "output_type": "stream",
     "text": [
      "['dement', 'emeritus', 'professor', '–', '1964', 'starting', 'research', 'still', 'new', 'field', 'sleep', 'science', 'read', 'experiment', 'san', 'diego', 'newspaper', 'immediately', 'wanted', 'get', 'involved', '–', 'much', 'relief', 'randy', '’', 'parent', '“', 'probably', 'person', 'planet', 'time', 'actually', 'done', 'sleep', 'research', '”', 'dement', 'say', '“', 'randy', '’', 'parent', 'worried', 'might', 'something', 'would', 'really', 'harmful', 'question', 'still', 'unresolved', 'whether', 'go', 'without', 'sleep', 'long', 'enough', 'die', '”', 'capacity', 'go', 'without', 'sleep', 'something', 'bbc', 'future', 'explored', 'previously', 'experiment', 'animal', 'one', 'kept', 'cat', 'awake', '15', 'day', 'point', 'died', 'point', 'whether', 'factor', 'stress', 'chemical', 'cause', 'death', 'rather', 'lack', 'sleep']\n"
     ]
    }
   ],
   "source": [
    "# Lemmatization - From plural to single + Base form of a word (example better-> good)\n",
    "lemma_words = []\n",
    "for word in final_words:\n",
    "    word = WordNetLemmatizer().lemmatize(word)\n",
    "    lemma_words.append(word)\n",
    "print(lemma_words)    "
   ]
  },
  {
   "cell_type": "code",
   "execution_count": 103,
   "id": "98f901d7-7da6-41b2-b1bb-dc14d931e7b2",
   "metadata": {},
   "outputs": [
    {
     "name": "stdout",
     "output_type": "stream",
     "text": [
      "[' fearful']\n"
     ]
    }
   ],
   "source": [
    "emotion_list = []\n",
    "with open('emotions.txt', 'r') as file:\n",
    "    for line in file:\n",
    "        clear_line = line.replace(\"\\n\", '').replace(\",\", '').replace(\"'\", '').strip()\n",
    "        word, emotion = clear_line.split(':')\n",
    "\n",
    "        if word in lemma_words:\n",
    "            emotion_list.append(emotion)\n",
    "print(emotion_list)            "
   ]
  },
  {
   "cell_type": "code",
   "execution_count": 104,
   "id": "496e83eb-fe01-48e7-894d-030f9ec23773",
   "metadata": {},
   "outputs": [
    {
     "name": "stdout",
     "output_type": "stream",
     "text": [
      "Counter({' fearful': 1})\n"
     ]
    }
   ],
   "source": [
    "wc = Counter(emotion_list)\n",
    "print(wc)"
   ]
  },
  {
   "cell_type": "code",
   "execution_count": 105,
   "id": "90a74593-6e46-4749-8ec1-d6731dc07619",
   "metadata": {},
   "outputs": [],
   "source": [
    "def sentiment_analyse(sentiment_text):\n",
    "    score = SentimentIntensityAnalyzer().polarity_scores(sentiment_text)\n",
    "    if score['neg'] > score['pos']:\n",
    "        print(\"Negative Sentiment\")\n",
    "    elif score['neg'] < score['pos']:\n",
    "        print(\"Positive Sentiment\")\n",
    "    else:\n",
    "        print(\"Neutral Sentiment\")\n"
   ]
  },
  {
   "cell_type": "code",
   "execution_count": 107,
   "id": "c3ceac9c-29b5-400b-b22b-ef89ab633f94",
   "metadata": {},
   "outputs": [
    {
     "name": "stdout",
     "output_type": "stream",
     "text": [
      "Negative Sentiment\n"
     ]
    }
   ],
   "source": [
    "sentiment_analyse(clr_text)\n",
    "\n",
    "# fig, ax1 = plt.subplots()\n",
    "# ax1.bar(w.keys(), w.values())\n",
    "# fig.autofmt_xdate()\n",
    "# # plt.savefig('graph.png')\n",
    "# plt.show()"
   ]
  },
  {
   "cell_type": "code",
   "execution_count": null,
   "id": "ef8e7ff7-167e-46d1-a04f-cac4fdba9abd",
   "metadata": {},
   "outputs": [],
   "source": []
  }
 ],
 "metadata": {
  "kernelspec": {
   "display_name": "Python 3 (ipykernel)",
   "language": "python",
   "name": "python3"
  },
  "language_info": {
   "codemirror_mode": {
    "name": "ipython",
    "version": 3
   },
   "file_extension": ".py",
   "mimetype": "text/x-python",
   "name": "python",
   "nbconvert_exporter": "python",
   "pygments_lexer": "ipython3",
   "version": "3.9.7"
  }
 },
 "nbformat": 4,
 "nbformat_minor": 5
}
