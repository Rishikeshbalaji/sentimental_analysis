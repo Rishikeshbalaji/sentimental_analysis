{
 "cells": [
  {
   "cell_type": "code",
   "execution_count": 38,
   "id": "37c4ff2c-d84f-4a7a-abd7-4e69b5370e79",
   "metadata": {},
   "outputs": [
    {
     "name": "stderr",
     "output_type": "stream",
     "text": [
      "[nltk_data] Downloading package omw-1.4 to\n",
      "[nltk_data]     C:\\Users\\Renuka\\AppData\\Roaming\\nltk_data...\n",
      "[nltk_data]   Unzipping corpora\\omw-1.4.zip.\n"
     ]
    }
   ],
   "source": [
    "import string\n",
    "import nltk\n",
    "# nltk.download('punkt')\n",
    "# nltk.download('stopwords')\n",
    "# nltk.download('wordnet')\n",
    "nltk.download('omw-1.4')\n",
    "  \n",
    "from collections import Counter\n",
    "import matplotlib.pyplot as plt \n",
    "from nltk.corpus import stopwords\n",
    "from nltk.sentiment.vader import SentimentIntensityAnalyzer\n",
    "from nltk.stem import WordNetLemmatizer\n",
    "from nltk.tokenize import word_tokenize\n"
   ]
  },
  {
   "cell_type": "code",
   "execution_count": 29,
   "id": "07f2b18f-a84e-4ff2-913a-2fda2ba07a00",
   "metadata": {},
   "outputs": [
    {
     "name": "stdout",
     "output_type": "stream",
     "text": [
      "I am victimized by my life cheated by every one and alarmed by, you because u look good.!@\n"
     ]
    }
   ],
   "source": [
    "read_text= open(\"C:/Users/Renuka/Desktop/jupiter_lab/env/Scripts/read.txt\", encoding='utf-8').read()\n",
    "print(read_text)\n",
    "lower_case=read_text.lower()"
   ]
  },
  {
   "cell_type": "code",
   "execution_count": 30,
   "id": "df5491e5-e78a-4f09-891a-42f4da411b3b",
   "metadata": {},
   "outputs": [
    {
     "name": "stdout",
     "output_type": "stream",
     "text": [
      "i am victimized by my life cheated by every one and alarmed by you because u look good\n"
     ]
    }
   ],
   "source": [
    "# print(lower_case)\n",
    "cleaned_text = lower_case.translate(str.maketrans('', '', string.punctuation))\n",
    "print(clr_text)"
   ]
  },
  {
   "cell_type": "code",
   "execution_count": 31,
   "id": "3ce694ac-2b20-4747-adbc-188f89b08149",
   "metadata": {},
   "outputs": [
    {
     "name": "stdout",
     "output_type": "stream",
     "text": [
      "['i', 'am', 'victimized', 'by', 'my', 'life', 'cheated', 'by', 'every', 'one', 'and', 'alarmed', 'by', 'you', 'because', 'u', 'look', 'good']\n"
     ]
    }
   ],
   "source": [
    "# Using word_tokenize because it's faster than split()\n",
    "tokenized_words = word_tokenize(cleaned_text, \"english\")\n",
    "print(tokenized_words)\n"
   ]
  },
  {
   "cell_type": "code",
   "execution_count": 34,
   "id": "16008394-c5d2-464c-af24-e29cf2569de4",
   "metadata": {},
   "outputs": [],
   "source": [
    "# Removing Stop Words\n",
    "final_words = []\n",
    "for word in tokenized_words:\n",
    "    if word not in stopwords.words('english'):\n",
    "        final_words.append(word)"
   ]
  },
  {
   "cell_type": "code",
   "execution_count": 39,
   "id": "25ba5b4a-a4f3-4a0b-9232-90b9e3f7ae87",
   "metadata": {},
   "outputs": [],
   "source": [
    "# Lemmatization - From plural to single + Base form of a word (example better-> good)\n",
    "lemma_words = []\n",
    "for word in final_words:\n",
    "    word = WordNetLemmatizer().lemmatize(word)\n",
    "    lemma_words.append(word)"
   ]
  },
  {
   "cell_type": "code",
   "execution_count": null,
   "id": "98f901d7-7da6-41b2-b1bb-dc14d931e7b2",
   "metadata": {},
   "outputs": [],
   "source": []
  }
 ],
 "metadata": {
  "kernelspec": {
   "display_name": "Python 3 (ipykernel)",
   "language": "python",
   "name": "python3"
  },
  "language_info": {
   "codemirror_mode": {
    "name": "ipython",
    "version": 3
   },
   "file_extension": ".py",
   "mimetype": "text/x-python",
   "name": "python",
   "nbconvert_exporter": "python",
   "pygments_lexer": "ipython3",
   "version": "3.9.7"
  }
 },
 "nbformat": 4,
 "nbformat_minor": 5
}
